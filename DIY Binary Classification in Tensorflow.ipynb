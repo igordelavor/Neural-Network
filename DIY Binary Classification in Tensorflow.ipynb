{
 "cells": [
  {
   "cell_type": "code",
   "execution_count": 1,
   "metadata": {},
   "outputs": [
    {
     "name": "stdout",
     "output_type": "stream",
     "text": [
      "WARNING:tensorflow:From /home/igor/anaconda3/lib/python3.7/site-packages/tensorflow_core/python/compat/v2_compat.py:88: disable_resource_variables (from tensorflow.python.ops.variable_scope) is deprecated and will be removed in a future version.\n",
      "Instructions for updating:\n",
      "non-resource variables are not supported in the long term\n"
     ]
    }
   ],
   "source": [
    "import numpy as np\n",
    "import tensorflow.compat.v1 as tf\n",
    "tf.disable_v2_behavior()\n",
    "import random\n",
    "import matplotlib.pyplot as plt\n",
    "import matplotlib.cm as cm"
   ]
  },
  {
   "cell_type": "code",
   "execution_count": 2,
   "metadata": {},
   "outputs": [
    {
     "data": {
      "image/png": "[encoded data removed]",
      "text/plain": [
       "<Figure size 432x288 with 1 Axes>"
      ]
     },
     "metadata": {
      "needs_background": "light"
     },
     "output_type": "display_data"
    }
   ],
   "source": [
    "x1_data = np.array([0,1,0,1])\n",
    "x2_data = np.array([0,0,1,1])\n",
    "z_data = np.array([0,0,0,1])\n",
    "\n",
    "fig = plt.figure()\n",
    "ax = fig.add_subplot(111)\n",
    "ax.axis([-1,2,-1,2])\n",
    "ax.grid(True, linestyle='-', color='0.75')\n",
    "ax.scatter(x1_data,x2_data, s=100, c=z_data, cmap = cm.bwr)\n",
    "plt.xlabel('x1')\n",
    "plt.xlabel('x2')\n",
    "fig.canvas.draw()"
   ]
  },
  {
   "cell_type": "code",
   "execution_count": 5,
   "metadata": {},
   "outputs": [
    {
     "name": "stdout",
     "output_type": "stream",
     "text": [
      "[[0 0]\n",
      " [1 0]\n",
      " [0 1]\n",
      " [1 1]]\n",
      "[[1. 0.]\n",
      " [1. 0.]\n",
      " [1. 0.]\n",
      " [0. 1.]]\n",
      "WARNING:tensorflow:From <ipython-input-5-ed0b5f5393ae>:43: calling reduce_sum_v1 (from tensorflow.python.ops.math_ops) with keep_dims is deprecated and will be removed in a future version.\n",
      "Instructions for updating:\n",
      "keep_dims is deprecated, use keepdims instead\n"
     ]
    },
    {
     "data": {
      "image/png": "[encoded data removed]",
      "text/plain": [
       "<Figure size 432x288 with 1 Axes>"
      ]
     },
     "metadata": {
      "needs_background": "light"
     },
     "output_type": "display_data"
    }
   ],
   "source": [
    "x1_data = np.array([0,1,0,1])\n",
    "x2_data = np.array([0,0,1,1])\n",
    "z_data  = np.array([0,0,0,1])\n",
    "\n",
    "fig = plt.figure()\n",
    "ax = fig.add_subplot(111)\n",
    "ax.axis([-1,2,-1,2])\n",
    "ax.grid(True, linestyle='-', color='0.75')\n",
    "ax.scatter(x1_data, x2_data, s=100, c=z_data, cmap=cm.bwr)\n",
    "plt.xlabel('x1')\n",
    "plt.ylabel('x2')\n",
    "fig.canvas.draw()\n",
    "\n",
    "def make_one_hot(data):\n",
    "    classes = sorted(list(set(data)))\n",
    "    num_samples = len(data)\n",
    "    num_classes = len(classes)\n",
    "    one_hot_data = np.zeros([num_samples, num_classes])\n",
    "    for i,d in enumerate(data):\n",
    "        one_hot_data[i, classes.index(d)] = 1\n",
    "    return one_hot_data\n",
    "\n",
    "use_one_hot = True\n",
    "\n",
    "x_data = np.array(list(zip(x1_data, x2_data)))\n",
    "z_data = make_one_hot(z_data) if use_one_hot else z_data.reshape([-1,1])\n",
    "\n",
    "print(x_data)\n",
    "print(z_data)\n",
    "\n",
    "num_inputs = x_data.shape[1]\n",
    "num_outputs = z_data.shape[1]\n",
    "\n",
    "x_input = tf.placeholder(dtype=tf.float32, shape=[None, num_inputs])\n",
    "z_target = tf.placeholder(dtype=tf.float32, shape=[None, num_outputs])\n",
    "\n",
    "W = tf.Variable(0.01*tf.random_normal(shape=[num_inputs, num_outputs], dtype=tf.float32))\n",
    "B = tf.Variable(tf.zeros([num_outputs], dtype=tf.float32))\n",
    "\n",
    "logits = tf.add(tf.matmul(x_input, W), B)\n",
    "\n",
    "if use_one_hot:\n",
    "    preds = tf.exp(logits)/tf.reduce_sum(tf.exp(logits), axis=1, keep_dims=True)\n",
    "    # preds = tf.nn.softmax(logits)\n",
    "    error = tf.multiply(-tf.log(tf.maximum(preds,0.001)), z_target)\n",
    "else:\n",
    "    preds = 1/(1 + tf.exp(-logits))\n",
    "    # preds = tf.nn.sigmoid(logits)\n",
    "    error = tf.square(tf.subtract(preds, z_target))\n",
    "\n",
    "loss = tf.reduce_sum(error)\n",
    "\n",
    "train_op = tf.train.GradientDescentOptimizer(learning_rate=0.1).minimize(loss)\n",
    "\n",
    "with tf.Session() as sess:\n",
    "    sess.run(tf.global_variables_initializer())\n",
    "    \n",
    "    iterations = 100\n",
    "    for i in range(iterations):\n",
    "        w_out, b_out, _ = sess.run([W, B, train_op], feed_dict={x_input: x_data.astype(float), z_target: z_data.astype(float)})\n",
    "        \n",
    "        if use_one_hot:\n",
    "            w1 = w_out[0][1]\n",
    "            w2 = w_out[1][1]\n",
    "            b = b_out[1]\n",
    "        else:\n",
    "            w1 = w_out[0]\n",
    "            w2 = w_out[1]\n",
    "            b = b_out[0]\n",
    "        \n",
    "        x2_next = (w1*x1_data + b)/-w2\n",
    "        \n",
    "        line, = plt.plot(x1_data, x2_next)\n",
    "        fig.canvas.draw()\n",
    "        line.remove()\n",
    "        \n",
    "line, = plt.plot(x1_data, x2_next)\n",
    "fig.canvas.draw()"
   ]
  },
  {
   "cell_type": "code",
   "execution_count": null,
   "metadata": {},
   "outputs": [],
   "source": []
  }
 ],
 "metadata": {
  "kernelspec": {
   "display_name": "Python 3",
   "language": "python",
   "name": "python3"
  },
  "language_info": {
   "codemirror_mode": {
    "name": "ipython",
    "version": 3
   },
   "file_extension": ".py",
   "mimetype": "text/x-python",
   "name": "python",
   "nbconvert_exporter": "python",
   "pygments_lexer": "ipython3",
   "version": "3.7.6"
  }
 },
 "nbformat": 4,
 "nbformat_minor": 4
}
